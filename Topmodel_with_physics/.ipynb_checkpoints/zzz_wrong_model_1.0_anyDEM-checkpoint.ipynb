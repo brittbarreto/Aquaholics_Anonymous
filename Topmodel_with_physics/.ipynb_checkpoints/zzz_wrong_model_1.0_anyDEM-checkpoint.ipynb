{
 "cells": [
  {
   "cell_type": "code",
   "execution_count": 67,
   "metadata": {},
   "outputs": [],
   "source": [
    "livia_dir = (os.path.abspath(os.path.join(os.path.dirname(\"C:/Users/feder/Documents/CUAHSI/repos/Aquaholics_Anonymous/Topmodel_with_physics/model_1.0_anyDEM.ipynb\"), '..','..'))\n",
    "+ '/hydrological-model/code/')\n",
    "#sys.path.append(livia_dir)\n",
    "data_dir = (os.path.abspath(os.path.join(os.path.dirname(\"C:/Users/feder/Documents/CUAHSI/repos/Aquaholics_Anonymous/Topmodel_with_physics/model_1.0_anyDEM.ipynb\"), '..',))\n",
    "+ '/data/hubbard_brook/')\n",
    "sys.path.append(data_dir)\n"
   ]
  },
  {
   "cell_type": "code",
   "execution_count": 68,
   "metadata": {},
   "outputs": [],
   "source": [
    "import sys\n",
    "import os\n",
    "import os.path\n",
    "import time\n",
    "\n",
    "import numpy as np\n",
    "import pandas as pd\n",
    "import matplotlib.pyplot as plt\n",
    "\n",
    "from osgeo import gdal\n",
    "from osgeo import osr\n",
    "from osgeo.gdalconst import *"
   ]
  },
  {
   "cell_type": "code",
   "execution_count": 85,
   "metadata": {},
   "outputs": [],
   "source": [
    "from RasterHandler import createRanRasterSlope\n",
    "import matplotlib.pyplot as mp\n",
    "import Flow as Flow\n",
    "#import Driver as Driver\n",
    "from RasterHandler import readRaster\n",
    "\n",
    "#sys.path.append('../hydrological-model/code/')\n",
    "\n",
    "\n",
    "#print(sys.path)\n",
    "#from Raster import Raster"
   ]
  },
  {
   "cell_type": "code",
   "execution_count": 70,
   "metadata": {},
   "outputs": [
    {
     "data": {
      "text/plain": [
       "0"
      ]
     },
     "execution_count": 70,
     "metadata": {},
     "output_type": "execute_result"
    }
   ],
   "source": [
    "dem_file = data_dir + \"hubbard_clipped.tif\"\n",
    "ascii_dem_file = data_dir + \"ascii_hubbard_clipped.txt\"\n",
    "os.system('gdal_translate -of AAIGrid ' + dem_file + ' ' + ascii_dem_file)"
   ]
  },
  {
   "cell_type": "code",
   "execution_count": 89,
   "metadata": {},
   "outputs": [
    {
     "name": "stdout",
     "output_type": "stream",
     "text": [
      "9.999982558140\n",
      "9.99998255814\n",
      "10\n",
      "\n",
      "Cellsize 1.0 is correct\n"
     ]
    },
    {
     "data": {
      "text/plain": [
       "[[-2.14748365e+09 -2.14748365e+09 -2.14748365e+09 ... -2.14748365e+09\n",
       "  -2.14748365e+09 -2.14748365e+09]\n",
       " [-2.14748365e+09 -2.14748365e+09 -2.14748365e+09 ... -2.14748365e+09\n",
       "  -2.14748365e+09 -2.14748365e+09]\n",
       " [-2.14748365e+09 -2.14748365e+09 -2.14748365e+09 ... -2.14748365e+09\n",
       "  -2.14748365e+09 -2.14748365e+09]\n",
       " ...\n",
       " [-2.14748365e+09 -2.14748365e+09 -2.14748365e+09 ... -2.14748365e+09\n",
       "  -2.14748365e+09 -2.14748365e+09]\n",
       " [-2.14748365e+09 -2.14748365e+09 -2.14748365e+09 ... -2.14748365e+09\n",
       "  -2.14748365e+09 -2.14748365e+09]\n",
       " [-2.14748365e+09 -2.14748365e+09 -2.14748365e+09 ... -2.14748365e+09\n",
       "  -2.14748365e+09 -2.14748365e+09]]"
      ]
     },
     "execution_count": 89,
     "metadata": {},
     "output_type": "execute_result"
    }
   ],
   "source": [
    "def readRaster(fileName):\n",
    "    \"\"\"Generates a raster object from a ARC-INFO ascii format file\n",
    "    \n",
    "    \"\"\"\n",
    "    #print(\"UN ENORME VAFFANCULO\")\n",
    "    lines = []\n",
    "    myFile=open(fileName,'r')\n",
    "        \n",
    "    end_header=False\n",
    "    xll=0.\n",
    "    yll=0.\n",
    "    nodata=-999.999\n",
    "    cellsize=1.0\n",
    "    \n",
    "    while (not end_header):\n",
    "        line=myFile.readline()    \n",
    "        items=line.split()\n",
    "        keyword=items[0].lower()\n",
    "        value=items[1]\n",
    "        if (keyword=='ncols'):\n",
    "            ncols=int(value)\n",
    "        elif (keyword=='nrows'):\n",
    "            nrows=int(value)\n",
    "        elif (keyword=='xllcorner'):\n",
    "            xll=float(value)\n",
    "        elif (keyword=='yllcorner'):\n",
    "            yll=float(value)  \n",
    "        elif (keyword=='nodata_value'):\n",
    "            nodata=float(value)\n",
    "        elif (keyword=='cellsize'):\n",
    "            cellsize=float(value)\n",
    "        elif (keyword=='dx'):\n",
    "            print(value)\n",
    "            print(float(value))\n",
    "            print(round(float(value)))\n",
    "            cellsize=float(round(float(value)))\n",
    "            print()\n",
    "        elif (keyword=='dy'):\n",
    "            cellsize2=float(round(float(value)))\n",
    "            if cellsize == cellsize1:\n",
    "                print(\"Cellsize {} is correct\".format(cellsize1))\n",
    "        else:\n",
    "            end_header=True\n",
    "    \n",
    "    if (nrows==None or ncols==None):\n",
    "        print (\"Row or Column size not specified for Raster file read\")\n",
    "        return None  \n",
    "\n",
    "    items=line.split()\n",
    "        \n",
    "    datarows=[]\n",
    "    items=line.split()\n",
    "    \n",
    "    row=[]\n",
    "    for item in items:\n",
    "        row.append(float(item))\n",
    " \n",
    "    datarows.append(row)\n",
    "        \n",
    "    for line in myFile.readlines():\n",
    "        lines.append(line)\n",
    "        items=line.split()\n",
    "        row=[]\n",
    "        for item in items:\n",
    "            row.append(float(item))\n",
    "   \n",
    "        datarows.append(row)\n",
    "\n",
    "    data=np.array(datarows)\n",
    "    \n",
    "    return Raster(data,xll,yll,cellsize,nodata)\n",
    "\n",
    "readRaster(ascii_dem_file)"
   ]
  },
  {
   "cell_type": "code",
   "execution_count": 71,
   "metadata": {},
   "outputs": [
    {
     "ename": "ValueError",
     "evalue": "could not convert string to float: 'dx'",
     "output_type": "error",
     "traceback": [
      "\u001b[1;31m---------------------------------------------------------------------------\u001b[0m",
      "\u001b[1;31mValueError\u001b[0m                                Traceback (most recent call last)",
      "\u001b[1;32m<ipython-input-71-ffdc7db7c8e8>\u001b[0m in \u001b[0;36m<module>\u001b[1;34m\u001b[0m\n\u001b[0;32m     17\u001b[0m \u001b[1;33m\u001b[0m\u001b[0m\n\u001b[0;32m     18\u001b[0m \u001b[1;31m##random raster\u001b[0m\u001b[1;33m\u001b[0m\u001b[1;33m\u001b[0m\u001b[1;33m\u001b[0m\u001b[0m\n\u001b[1;32m---> 19\u001b[1;33m \u001b[0mDriver\u001b[0m\u001b[1;33m.\u001b[0m\u001b[0mcalculateFlowsAndPlot\u001b[0m\u001b[1;33m(\u001b[0m\u001b[0mreadRaster\u001b[0m\u001b[1;33m(\u001b[0m\u001b[0mascii_dem_file\u001b[0m\u001b[1;33m)\u001b[0m\u001b[1;33m,\u001b[0m \u001b[0mrainrasterA\u001b[0m\u001b[1;33m,\u001b[0m \u001b[0mresampleFactorA\u001b[0m\u001b[1;33m)\u001b[0m\u001b[1;33m\u001b[0m\u001b[1;33m\u001b[0m\u001b[0m\n\u001b[0m",
      "\u001b[1;32m~\\Documents\\CUAHSI\\repos/hydrological-model/code\\RasterHandler.py\u001b[0m in \u001b[0;36mreadRaster\u001b[1;34m(fileName)\u001b[0m\n\u001b[0;32m     54\u001b[0m \u001b[1;33m\u001b[0m\u001b[0m\n\u001b[0;32m     55\u001b[0m     \u001b[0mrow\u001b[0m\u001b[1;33m=\u001b[0m\u001b[1;33m[\u001b[0m\u001b[1;33m]\u001b[0m\u001b[1;33m\u001b[0m\u001b[1;33m\u001b[0m\u001b[0m\n\u001b[1;32m---> 56\u001b[1;33m     \u001b[1;32mfor\u001b[0m \u001b[0mitem\u001b[0m \u001b[1;32min\u001b[0m \u001b[0mitems\u001b[0m\u001b[1;33m:\u001b[0m\u001b[1;33m\u001b[0m\u001b[1;33m\u001b[0m\u001b[0m\n\u001b[0m\u001b[0;32m     57\u001b[0m         \u001b[0mrow\u001b[0m\u001b[1;33m.\u001b[0m\u001b[0mappend\u001b[0m\u001b[1;33m(\u001b[0m\u001b[0mfloat\u001b[0m\u001b[1;33m(\u001b[0m\u001b[0mitem\u001b[0m\u001b[1;33m)\u001b[0m\u001b[1;33m)\u001b[0m\u001b[1;33m\u001b[0m\u001b[1;33m\u001b[0m\u001b[0m\n\u001b[0;32m     58\u001b[0m         \u001b[0mprint\u001b[0m\u001b[1;33m(\u001b[0m\u001b[0mrow\u001b[0m\u001b[1;33m)\u001b[0m\u001b[1;33m\u001b[0m\u001b[1;33m\u001b[0m\u001b[0m\n",
      "\u001b[1;31mValueError\u001b[0m: could not convert string to float: 'dx'"
     ]
    }
   ],
   "source": [
    "rows=20\n",
    "cols=20\n",
    "xorg=0.\n",
    "yorg=0.\n",
    "xp=5\n",
    "yp=5\n",
    "nodata=-999.999\n",
    "cellsize=1.\n",
    "levels=4\n",
    "datahi=100.\n",
    "datalow=0\n",
    "randpercent=0.3\n",
    "\n",
    "resampleFactorA = 1\n",
    "elevationRasterA=createRanRasterSlope(rows,cols,cellsize,xorg,yorg,nodata,levels,datahi,datalow,xp,yp,randpercent)   \n",
    "rainrasterA=createRanRasterSlope(rows//resampleFactorA,cols//resampleFactorA,cellsize*resampleFactorA,xorg,yorg,nodata,levels,4000,1,36,4,.1)   \n",
    "\n",
    "##random raster\n",
    "Driver.calculateFlowsAndPlot(readRaster(ascii_dem_file), rainrasterA, resampleFactorA)"
   ]
  },
  {
   "cell_type": "code",
   "execution_count": null,
   "metadata": {},
   "outputs": [],
   "source": []
  },
  {
   "cell_type": "code",
   "execution_count": 49,
   "metadata": {},
   "outputs": [
    {
     "name": "stdout",
     "output_type": "stream",
     "text": [
      "['C:\\\\Users\\\\feder\\\\Documents\\\\CUAHSI\\\\repos\\\\Aquaholics_Anonymous\\\\Topmodel_with_physics', 'C:\\\\pcraster-4.2.1\\\\python', 'C:\\\\Users\\\\feder\\\\Documents\\\\CUAHSI\\\\repos\\\\Aquaholics_Anonymous\\\\Topmodel_with_physics', 'C:\\\\Users\\\\feder\\\\Anaconda3\\\\python37.zip', 'C:\\\\Users\\\\feder\\\\Anaconda3\\\\DLLs', 'C:\\\\Users\\\\feder\\\\Anaconda3\\\\lib', 'C:\\\\Users\\\\feder\\\\Anaconda3', '', 'C:\\\\Users\\\\feder\\\\Anaconda3\\\\lib\\\\site-packages', 'C:\\\\Users\\\\feder\\\\Anaconda3\\\\lib\\\\site-packages\\\\win32', 'C:\\\\Users\\\\feder\\\\Anaconda3\\\\lib\\\\site-packages\\\\win32\\\\lib', 'C:\\\\Users\\\\feder\\\\Anaconda3\\\\lib\\\\site-packages\\\\Pythonwin', 'C:\\\\Users\\\\feder\\\\Anaconda3\\\\lib\\\\site-packages\\\\IPython\\\\extensions', 'C:\\\\Users\\\\feder\\\\.ipython', 'C:\\\\Users\\\\feder\\\\Documents\\\\CUAHSI\\\\repos/hydrological-model/code/', 'C:\\\\Users\\\\feder\\\\Documents\\\\CUAHSI\\\\repos\\\\Aquaholics_Anonymous/data/hubbard_brook/']\n"
     ]
    }
   ],
   "source": [
    "print(sys.path)"
   ]
  },
  {
   "cell_type": "code",
   "execution_count": null,
   "metadata": {},
   "outputs": [],
   "source": []
  }
 ],
 "metadata": {
  "kernelspec": {
   "display_name": "Python 3",
   "language": "python",
   "name": "python3"
  },
  "language_info": {
   "codemirror_mode": {
    "name": "ipython",
    "version": 3
   },
   "file_extension": ".py",
   "mimetype": "text/x-python",
   "name": "python",
   "nbconvert_exporter": "python",
   "pygments_lexer": "ipython3",
   "version": "3.7.3"
  }
 },
 "nbformat": 4,
 "nbformat_minor": 2
}
