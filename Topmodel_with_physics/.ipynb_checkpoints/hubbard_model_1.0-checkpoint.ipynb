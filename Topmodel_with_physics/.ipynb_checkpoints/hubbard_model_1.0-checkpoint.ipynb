{
 "cells": [
  {
   "cell_type": "code",
   "execution_count": 1,
   "metadata": {},
   "outputs": [
    {
     "data": {
      "text/plain": [
       "6"
      ]
     },
     "execution_count": 1,
     "metadata": {},
     "output_type": "execute_result"
    }
   ],
   "source": [
    "import sys\n",
    "import os\n",
    "import time\n",
    "\n",
    "import numpy as np\n",
    "import pandas as pd\n",
    "import matplotlib.pyplot as plt\n",
    "\n",
    "from osgeo import gdal\n",
    "from osgeo import osr\n",
    "from osgeo.gdalconst import *\n",
    "import rasterio\n",
    "#from rasterio.plot import show\n",
    "driver = gdal.GetDriverByName('GTiff')\n",
    "driver.Register()\n",
    "\n",
    "coords_system = osr.SpatialReference()\n",
    "coords_system.ImportFromEPSG(26919)"
   ]
  },
  {
   "cell_type": "code",
   "execution_count": 4,
   "metadata": {},
   "outputs": [
    {
     "name": "stdout",
     "output_type": "stream",
     "text": [
      "C:\\Users\\feder\\Documents\\CUAHSI\\repos/data/hubbard_brook/\n"
     ]
    }
   ],
   "source": [
    "dir_path = os.path.realpath('./')\n",
    "#print(dir_path)\n",
    "cwd = os.getcwd()\n",
    "#print(cwd)\n",
    "\n",
    "hubbard_dir = (os.path.abspath(os.path.join(os.path.realpath('./'),'..')) + '/data/hubbard_brook/')\n",
    "print(hubbard_dir)\n",
    "dem = hubbard_dir + \"simple_dem_1x3.tif\"\n",
    "tanbeta = hubbard_dir + \"hubbard_tanbeta.tif\""
   ]
  },
  {
   "cell_type": "code",
   "execution_count": null,
   "metadata": {},
   "outputs": [],
   "source": []
  }
 ],
 "metadata": {
  "kernelspec": {
   "display_name": "Python 3",
   "language": "python",
   "name": "python3"
  },
  "language_info": {
   "codemirror_mode": {
    "name": "ipython",
    "version": 3
   },
   "file_extension": ".py",
   "mimetype": "text/x-python",
   "name": "python",
   "nbconvert_exporter": "python",
   "pygments_lexer": "ipython3",
   "version": "3.7.3"
  }
 },
 "nbformat": 4,
 "nbformat_minor": 2
}
